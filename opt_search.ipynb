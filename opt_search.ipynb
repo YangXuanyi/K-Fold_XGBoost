{
 "cells": [
  {
   "cell_type": "markdown",
   "metadata": {},
   "source": [
    "# XGBoost模型调优"
   ]
  },
  {
   "cell_type": "code",
   "execution_count": 1,
   "metadata": {},
   "outputs": [
    {
     "name": "stdout",
     "output_type": "stream",
     "text": [
      "max_depth_min_child_weight\n",
      "gsearch1.grid_scores_ {'mean_fit_time': array([1.22470727, 0.15125628, 0.13625121, 0.18264093, 0.16463671,\n",
      "       0.17036152, 0.22602458, 0.20644631, 0.19484382, 0.28498874,\n",
      "       0.25549579, 0.22841611]), 'std_fit_time': array([0.51665587, 0.01402901, 0.01155262, 0.00560831, 0.00287121,\n",
      "       0.0032931 , 0.00430299, 0.00338323, 0.0041674 , 0.00974867,\n",
      "       0.00517105, 0.0056183 ]), 'mean_score_time': array([0.00300069, 0.00330224, 0.00260034, 0.00300069, 0.00340099,\n",
      "       0.00320067, 0.00320067, 0.00300059, 0.00300069, 0.00390472,\n",
      "       0.00380077, 0.00320067]), 'std_score_time': array([6.32635950e-04, 1.16882113e-03, 4.89706807e-04, 1.78416128e-07,\n",
      "       4.90018230e-04, 4.00114187e-04, 3.99994918e-04, 1.90734863e-07,\n",
      "       1.78416128e-07, 1.92237336e-04, 4.00018735e-04, 3.99994889e-04]), 'param_max_depth': masked_array(data=[5, 5, 5, 7, 7, 7, 9, 9, 9, 11, 11, 11],\n",
      "             mask=[False, False, False, False, False, False, False, False,\n",
      "                   False, False, False, False],\n",
      "       fill_value='?',\n",
      "            dtype=object), 'param_min_child_weight': masked_array(data=[1, 2, 3, 1, 2, 3, 1, 2, 3, 1, 2, 3],\n",
      "             mask=[False, False, False, False, False, False, False, False,\n",
      "                   False, False, False, False],\n",
      "       fill_value='?',\n",
      "            dtype=object), 'params': [{'max_depth': 5, 'min_child_weight': 1}, {'max_depth': 5, 'min_child_weight': 2}, {'max_depth': 5, 'min_child_weight': 3}, {'max_depth': 7, 'min_child_weight': 1}, {'max_depth': 7, 'min_child_weight': 2}, {'max_depth': 7, 'min_child_weight': 3}, {'max_depth': 9, 'min_child_weight': 1}, {'max_depth': 9, 'min_child_weight': 2}, {'max_depth': 9, 'min_child_weight': 3}, {'max_depth': 11, 'min_child_weight': 1}, {'max_depth': 11, 'min_child_weight': 2}, {'max_depth': 11, 'min_child_weight': 3}], 'split0_test_score': array([0.56002766, 0.61142215, 0.64772501, 0.57575897, 0.61849667,\n",
      "       0.60487278, 0.54402103, 0.61041954, 0.59834679, 0.54016556,\n",
      "       0.60330173, 0.60386676]), 'split1_test_score': array([0.5976911 , 0.62040658, 0.60988942, 0.58484581, 0.62253114,\n",
      "       0.60179185, 0.56840178, 0.62056374, 0.61242338, 0.58629721,\n",
      "       0.61129075, 0.60096539]), 'split2_test_score': array([0.68247286, 0.68303916, 0.66563474, 0.67451854, 0.64295332,\n",
      "       0.64105937, 0.66014188, 0.69408745, 0.61554553, 0.63950972,\n",
      "       0.63179751, 0.61933899]), 'split3_test_score': array([0.58034764, 0.62428607, 0.5648444 , 0.5821241 , 0.59637261,\n",
      "       0.51652904, 0.55501335, 0.5948895 , 0.54984985, 0.53230309,\n",
      "       0.59588729, 0.54984795]), 'split4_test_score': array([0.71659681, 0.72543484, 0.7063911 , 0.72802096, 0.71665073,\n",
      "       0.72847211, 0.72244747, 0.72301504, 0.71838785, 0.70678374,\n",
      "       0.7088243 , 0.72647582]), 'mean_test_score': array([0.62742722, 0.65291776, 0.63889693, 0.62905368, 0.63940089,\n",
      "       0.61854503, 0.6100051 , 0.64859505, 0.61891068, 0.60101187,\n",
      "       0.63022032, 0.62009898]), 'std_test_score': array([0.06103223, 0.04419199, 0.04831878, 0.06141437, 0.0413598 ,\n",
      "       0.06850652, 0.06966464, 0.05046841, 0.05502979, 0.06528318,\n",
      "       0.04109201, 0.05810576]), 'rank_test_score': array([ 7,  1,  4,  6,  3, 10, 11,  2,  9, 12,  5,  8])}\n",
      "gsearch1.best_params_ {'max_depth': 5, 'min_child_weight': 2}\n",
      "gsearch1.best_score_ 0.6529177586255501\n"
     ]
    }
   ],
   "source": [
    "import pandas as pd\n",
    "import numpy as np\n",
    "from sklearn.model_selection import train_test_split\n",
    "from xgboost import XGBRegressor\n",
    "\n",
    "#####################################################\n",
    "#####  Load data\n",
    "#####################################################\n",
    "\n",
    "feature_file = pd.read_csv(\"./DataHousePricePrediction/train.csv\")\n",
    "\n",
    "x = []# feature data\n",
    "y = []# label\n",
    "for index in feature_file.index.values:\n",
    "    #print('index', index)\n",
    "    #print(feature_file.values[0])\n",
    "    #print(feature_file.ix[index].values) \n",
    "    x.append(feature_file.values[index][2: -1]) # get feature data from original csv\n",
    "    y.append(feature_file.values[index][1])     # get label from original csv\n",
    "   \n",
    "x, y = np.array(x), np.array(y)\n",
    "# Divide train data and valid data\n",
    "X_train,X_valid,y_train,y_valid = train_test_split(x,y,test_size=0.2,random_state=12345)\n",
    "\n",
    "#####################################################\n",
    "##### Create XGBoost model\n",
    "#####################################################\n",
    "\n",
    "xgb = XGBRegressor(learning_rate =0.1,\n",
    "                   n_estimators=150, \n",
    "                   max_depth=5,\n",
    "                   min_child_weight=1,\n",
    "                   gamma=0,\n",
    "                   subsample=0.8,\n",
    "                   colsample_bytree=0.8,\n",
    "                   objective= 'reg:squarederror',\n",
    "                   reg_alpha= 0,\n",
    "                   reg_lambda= 1,\n",
    "                   nthread=4,\n",
    "                   scale_pos_weight=1,\n",
    "                   seed=27)\n",
    "\n",
    "\n",
    "#####################################################\n",
    "##### Grid search optimal parameters\n",
    "#####################################################\n",
    "from sklearn.model_selection import GridSearchCV\n",
    "#Need to research\n",
    "#research_one: n_epoch\n",
    "#research_two: max_depth\n",
    "param_test1 = {\n",
    "    'min_child_weight': [1, 2, 3],\n",
    "    'max_depth':[3, 4, 5, 6, 7]\n",
    "    }\n",
    "\n",
    "xgb_res = GridSearchCV(estimator = xgb, \n",
    "                       param_grid = param_test1, \n",
    "                       n_jobs=4, \n",
    "                       cv=5)\n",
    "\n",
    "xgb_res.fit(X_train, y_train)\n",
    "print('max_depth_min_child_weight')\n",
    "print('gsearch1.grid_scores_', xgb_res.cv_results_)\n",
    "print('gsearch1.best_params_', xgb_res.best_params_)\n",
    "print('gsearch1.best_score_', xgb_res.best_score_)"
   ]
  }
 ],
 "metadata": {
  "kernelspec": {
   "display_name": "Python 3.7.13 ('kaggle')",
   "language": "python",
   "name": "python3"
  },
  "language_info": {
   "codemirror_mode": {
    "name": "ipython",
    "version": 3
   },
   "file_extension": ".py",
   "mimetype": "text/x-python",
   "name": "python",
   "nbconvert_exporter": "python",
   "pygments_lexer": "ipython3",
   "version": "3.7.13"
  },
  "orig_nbformat": 4,
  "vscode": {
   "interpreter": {
    "hash": "d49aaf8e2fd6b887e64e24dc89b0353a21e50a7869480b497aa317b2bc68a09e"
   }
  }
 },
 "nbformat": 4,
 "nbformat_minor": 2
}
