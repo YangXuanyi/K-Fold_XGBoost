{
 "cells": [
  {
   "cell_type": "markdown",
   "metadata": {},
   "source": [
    "# 一、 Xgboost普通训练预测方法"
   ]
  },
  {
   "cell_type": "markdown",
   "metadata": {},
   "source": [
    "# 1.1 数据可视化"
   ]
  },
  {
   "cell_type": "code",
   "execution_count": 37,
   "metadata": {},
   "outputs": [
    {
     "data": {
      "text/html": [
       "<div>\n",
       "<style scoped>\n",
       "    .dataframe tbody tr th:only-of-type {\n",
       "        vertical-align: middle;\n",
       "    }\n",
       "\n",
       "    .dataframe tbody tr th {\n",
       "        vertical-align: top;\n",
       "    }\n",
       "\n",
       "    .dataframe thead th {\n",
       "        text-align: right;\n",
       "    }\n",
       "</style>\n",
       "<table border=\"1\" class=\"dataframe\">\n",
       "  <thead>\n",
       "    <tr style=\"text-align: right;\">\n",
       "      <th></th>\n",
       "      <th>saleTime</th>\n",
       "      <th>price</th>\n",
       "      <th>rooms</th>\n",
       "      <th>baths</th>\n",
       "      <th>size</th>\n",
       "      <th>parking</th>\n",
       "      <th>floor</th>\n",
       "      <th>score</th>\n",
       "      <th>buildingSize</th>\n",
       "      <th>basement</th>\n",
       "      <th>year</th>\n",
       "      <th>repairYear</th>\n",
       "      <th>latitude</th>\n",
       "      <th>longitude</th>\n",
       "    </tr>\n",
       "  </thead>\n",
       "  <tbody>\n",
       "    <tr>\n",
       "      <th>0</th>\n",
       "      <td>20150302</td>\n",
       "      <td>545000</td>\n",
       "      <td>3</td>\n",
       "      <td>2.25</td>\n",
       "      <td>1670</td>\n",
       "      <td>6240</td>\n",
       "      <td>1.0</td>\n",
       "      <td>8</td>\n",
       "      <td>1240</td>\n",
       "      <td>430</td>\n",
       "      <td>1974</td>\n",
       "      <td>0</td>\n",
       "      <td>47.6413</td>\n",
       "      <td>-122.113</td>\n",
       "    </tr>\n",
       "    <tr>\n",
       "      <th>1</th>\n",
       "      <td>20150211</td>\n",
       "      <td>785000</td>\n",
       "      <td>4</td>\n",
       "      <td>2.50</td>\n",
       "      <td>3300</td>\n",
       "      <td>10514</td>\n",
       "      <td>2.0</td>\n",
       "      <td>10</td>\n",
       "      <td>3300</td>\n",
       "      <td>0</td>\n",
       "      <td>1984</td>\n",
       "      <td>0</td>\n",
       "      <td>47.6323</td>\n",
       "      <td>-122.036</td>\n",
       "    </tr>\n",
       "    <tr>\n",
       "      <th>2</th>\n",
       "      <td>20150107</td>\n",
       "      <td>765000</td>\n",
       "      <td>3</td>\n",
       "      <td>3.25</td>\n",
       "      <td>3190</td>\n",
       "      <td>5283</td>\n",
       "      <td>2.0</td>\n",
       "      <td>9</td>\n",
       "      <td>3190</td>\n",
       "      <td>0</td>\n",
       "      <td>2007</td>\n",
       "      <td>0</td>\n",
       "      <td>47.5534</td>\n",
       "      <td>-122.002</td>\n",
       "    </tr>\n",
       "    <tr>\n",
       "      <th>3</th>\n",
       "      <td>20141103</td>\n",
       "      <td>720000</td>\n",
       "      <td>5</td>\n",
       "      <td>2.50</td>\n",
       "      <td>2900</td>\n",
       "      <td>9525</td>\n",
       "      <td>2.0</td>\n",
       "      <td>9</td>\n",
       "      <td>2900</td>\n",
       "      <td>0</td>\n",
       "      <td>1989</td>\n",
       "      <td>0</td>\n",
       "      <td>47.5442</td>\n",
       "      <td>-122.138</td>\n",
       "    </tr>\n",
       "    <tr>\n",
       "      <th>4</th>\n",
       "      <td>20140603</td>\n",
       "      <td>449500</td>\n",
       "      <td>5</td>\n",
       "      <td>2.75</td>\n",
       "      <td>2040</td>\n",
       "      <td>7488</td>\n",
       "      <td>1.0</td>\n",
       "      <td>7</td>\n",
       "      <td>1200</td>\n",
       "      <td>840</td>\n",
       "      <td>1969</td>\n",
       "      <td>0</td>\n",
       "      <td>47.7289</td>\n",
       "      <td>-122.172</td>\n",
       "    </tr>\n",
       "  </tbody>\n",
       "</table>\n",
       "</div>"
      ],
      "text/plain": [
       "   saleTime   price  rooms  baths  size  parking  floor  score  buildingSize  \\\n",
       "0  20150302  545000      3   2.25  1670     6240    1.0      8          1240   \n",
       "1  20150211  785000      4   2.50  3300    10514    2.0     10          3300   \n",
       "2  20150107  765000      3   3.25  3190     5283    2.0      9          3190   \n",
       "3  20141103  720000      5   2.50  2900     9525    2.0      9          2900   \n",
       "4  20140603  449500      5   2.75  2040     7488    1.0      7          1200   \n",
       "\n",
       "   basement  year  repairYear  latitude  longitude  \n",
       "0       430  1974           0   47.6413   -122.113  \n",
       "1         0  1984           0   47.6323   -122.036  \n",
       "2         0  2007           0   47.5534   -122.002  \n",
       "3         0  1989           0   47.5442   -122.138  \n",
       "4       840  1969           0   47.7289   -122.172  "
      ]
     },
     "execution_count": 37,
     "metadata": {},
     "output_type": "execute_result"
    }
   ],
   "source": [
    "import pandas as pd\n",
    "import numpy as np\n",
    "\n",
    "#Load train data\n",
    "feature_file = pd.read_csv(\"./DataHousePricePrediction/train.csv\")\n",
    "#visual data\n",
    "feature_file.head()\n"
   ]
  },
  {
   "cell_type": "code",
   "execution_count": 56,
   "metadata": {},
   "outputs": [
    {
     "name": "stdout",
     "output_type": "stream",
     "text": [
      "============================================================\n",
      "输入数据的shape为:  (1816, 11)\n",
      "输出Label的shape为: (1816,)\n",
      "样本数为： 1816\n",
      "============================================================\n",
      "训练集和对应Label的shape为:  (1452, 11) (1452,)\n",
      "验证集和对应Label的shape为:  (364, 11) (364,)\n"
     ]
    }
   ],
   "source": [
    "####################################################\n",
    "####Data processing\n",
    "####################################################\n",
    "from sklearn.model_selection import train_test_split\n",
    "\n",
    "x = []# feature data\n",
    "y = []# label\n",
    "for index in feature_file.index.values:\n",
    "    #print('index', index)\n",
    "    #print(feature_file.values[0])\n",
    "    #print(feature_file.ix[index].values) \n",
    "    x.append(feature_file.values[index][2: -1]) # get feature data from original csv\n",
    "    y.append(feature_file.values[index][1])     # get label from original csv\n",
    "    \n",
    "x, y = np.array(x), np.array(y)\n",
    "print('='*60)\n",
    "print('输入数据的shape为: ', x.shape)\n",
    "print('输出Label的shape为:', y.shape)\n",
    "print('样本数为：', len(feature_file.index.values))\n",
    "print('='*60)\n",
    "# 划分训练集和验证集\n",
    "X_train,X_valid,y_train,y_valid = train_test_split(x,y,test_size=0.2,random_state=12345)\n",
    "print('训练集和对应Label的shape为: ', X_train.shape, y_train.shape)\n",
    "print('验证集和对应Label的shape为: ', X_valid.shape, y_valid.shape)"
   ]
  },
  {
   "cell_type": "markdown",
   "metadata": {},
   "source": [
    "# 1.2 构建XGBoost模型"
   ]
  },
  {
   "cell_type": "code",
   "execution_count": 57,
   "metadata": {},
   "outputs": [],
   "source": [
    "from xgboost import XGBRegressor\n",
    "\n",
    "#定义xgboost\n",
    "xgb = XGBRegressor(learning_rate =0.1,\n",
    "                   n_estimators=150, \n",
    "                   max_depth=5,\n",
    "                   min_child_weight=1,\n",
    "                   gamma=0,\n",
    "                   subsample=0.8,\n",
    "                   colsample_bytree=0.8,\n",
    "                   objective= 'reg:squarederror',\n",
    "                   nthread=4,\n",
    "                   scale_pos_weight=1,\n",
    "                   seed=27)\n"
   ]
  },
  {
   "cell_type": "markdown",
   "metadata": {},
   "source": [
    "## 1.3 XGBoost模型训练保存及模型评估"
   ]
  },
  {
   "cell_type": "code",
   "execution_count": 58,
   "metadata": {},
   "outputs": [
    {
     "name": "stdout",
     "output_type": "stream",
     "text": [
      "0.7093157893300268\n"
     ]
    }
   ],
   "source": [
    "xgb.fit(X_train,y_train) # training model\n",
    "xgb.save_model(f'./XGB_train.xgb')    # save model file\n",
    "\n",
    "score = xgb.score(X_valid,y_valid)\n",
    "print(score)"
   ]
  },
  {
   "cell_type": "markdown",
   "metadata": {},
   "source": [
    "## 1.4 使用XGBoost模型进行预测"
   ]
  },
  {
   "cell_type": "code",
   "execution_count": null,
   "metadata": {},
   "outputs": [],
   "source": [
    "xgb = XGBRegressor()    # define model\n",
    "xgb.load_model(f'./XGB_train.xgb')      #load model file\n",
    "df_result = xgb.predict(X_valid)\n",
    "df_result = pd.DataFrame(df_result)        #numpy to pandas\n",
    "df_result.to_csv(\"./precit_normal.csv\", index=False)"
   ]
  },
  {
   "cell_type": "markdown",
   "metadata": {},
   "source": [
    "# 二、使用F-fold方法训练和预测XGBoost模型"
   ]
  },
  {
   "cell_type": "markdown",
   "metadata": {},
   "source": [
    "## 2.1 使用F-fold方法训练XGBoost模型"
   ]
  },
  {
   "cell_type": "code",
   "execution_count": 45,
   "metadata": {},
   "outputs": [
    {
     "name": "stdout",
     "output_type": "stream",
     "text": [
      "第 1 次模型的的准确率为： 0.8668489120138088\n",
      "第 2 次模型的的准确率为： 0.9257405632715963\n",
      "第 3 次模型的的准确率为： 0.89672406342582\n",
      "第 4 次模型的的准确率为： 0.9509216841043323\n",
      "第 5 次模型的的准确率为： 0.9036554008041089\n"
     ]
    }
   ],
   "source": [
    "import pandas as pd\n",
    "from sklearn.metrics import mean_squared_error as MSE\n",
    "from sklearn.model_selection import KFold\n",
    "#set the number of KFold\n",
    "n_splits = 5\n",
    "kf = KFold(n_splits)\n",
    "fold = 0\n",
    "for train_index, test_index in kf.split(x):\n",
    "    # Kf.split returns the index position corresponding to the divided training and valide data\n",
    "    train_X = x[train_index]\n",
    "    train_y = y[train_index]\n",
    "    valid_X = x[test_index]\n",
    "    valid_y = y[test_index]\n",
    "    #print(train_X.shape)\n",
    "    #print(train_y.shape)\n",
    "    #define xgboost\n",
    "    xgb = XGBRegressor(learning_rate =0.1,\n",
    "                       n_estimators=150, \n",
    "                       max_depth=5,\n",
    "                       min_child_weight=1,\n",
    "                       gamma=0,\n",
    "                       subsample=0.8,\n",
    "                       colsample_bytree=0.8,\n",
    "                       objective= 'reg:squarederror',\n",
    "                       nthread=4,\n",
    "                       scale_pos_weight=1,\n",
    "                       seed=27)\n",
    "    \n",
    "    xgb.fit(train_X, train_y)\n",
    "    xgb.save_model(f'./XgbModels/XGB_fold{fold}.xgb')\n",
    "    fold = fold + 1\n",
    "    score = xgb.score(X_valid,y_valid)\n",
    "    print(\"第\",fold,\"次模型的的准确率为：\", score)\n"
   ]
  },
  {
   "cell_type": "markdown",
   "metadata": {},
   "source": [
    "## 2.2 使用K-Fold产生的XGBoost模型进行综合预测"
   ]
  },
  {
   "cell_type": "code",
   "execution_count": 63,
   "metadata": {},
   "outputs": [],
   "source": [
    "#Comprehensive prediction using the model generated by K-FOld\n",
    "\n",
    "for f in range(0,n_splits):\n",
    "    xgb = XGBRegressor()\n",
    "    xgb.load_model(f'XgbModels/XGB_fold{f}.xgb')\n",
    "    if f == 0:\n",
    "        df_result = xgb.predict(X_valid)\n",
    "    else:\n",
    "        df_result = df_result + xgb.predict(X_valid)\n",
    "\n",
    "df_result /= n_splits\n",
    "df_result = pd.DataFrame(df_result)        #numpy to pandas\n",
    "df_result.to_csv(\"./precit_kfold.csv\", index=False)"
   ]
  }
 ],
 "metadata": {
  "kernelspec": {
   "display_name": "Python 3.7.13 ('kaggle')",
   "language": "python",
   "name": "python3"
  },
  "language_info": {
   "codemirror_mode": {
    "name": "ipython",
    "version": 3
   },
   "file_extension": ".py",
   "mimetype": "text/x-python",
   "name": "python",
   "nbconvert_exporter": "python",
   "pygments_lexer": "ipython3",
   "version": "3.7.13"
  },
  "orig_nbformat": 4,
  "vscode": {
   "interpreter": {
    "hash": "d49aaf8e2fd6b887e64e24dc89b0353a21e50a7869480b497aa317b2bc68a09e"
   }
  }
 },
 "nbformat": 4,
 "nbformat_minor": 2
}
